{
  "cells": [
    {
      "cell_type": "markdown",
      "metadata": {
        "id": "85rFLznaGor2"
      },
      "source": [
        "# ColabConnect\n",
        "\n",
        "Make a copy of this notebook from `File > Save a Copy in Drive`"
      ]
    },
    {
      "cell_type": "code",
      "execution_count": 1,
      "metadata": {
        "colab": {
          "base_uri": "https://localhost:8080/"
        },
        "id": "lIYdn1woOS1n",
        "outputId": "b404f1bb-2135-4854-f797-8e41b1fd27c9"
      },
      "outputs": [
        {
          "output_type": "stream",
          "name": "stdout",
          "text": [
            "Collecting git+https://github.com/amitness/colab-connect.git\n",
            "  Cloning https://github.com/amitness/colab-connect.git to /tmp/pip-req-build-x7_5a20v\n",
            "  Running command git clone --filter=blob:none --quiet https://github.com/amitness/colab-connect.git /tmp/pip-req-build-x7_5a20v\n",
            "  Resolved https://github.com/amitness/colab-connect.git to commit 1aae94940bb5e85af9a33586573342eab9ee3e0a\n",
            "  Preparing metadata (setup.py) ... \u001b[?25l\u001b[?25hdone\n",
            "Building wheels for collected packages: colabconnect\n",
            "  Building wheel for colabconnect (setup.py) ... \u001b[?25l\u001b[?25hdone\n",
            "  Created wheel for colabconnect: filename=colabconnect-0.0.8-py3-none-any.whl size=4548 sha256=8cda40ab4713cf2bbc65375b6a3ca6bcb71473417d140298282da371b79e78fb\n",
            "  Stored in directory: /tmp/pip-ephem-wheel-cache-cfpc3shl/wheels/03/ec/01/2b45a7fb6312f3580ad2f4e0e218bf82de5445dc3ee3bca9ba\n",
            "Successfully built colabconnect\n",
            "Installing collected packages: colabconnect\n",
            "Successfully installed colabconnect-0.0.8\n"
          ]
        }
      ],
      "source": [
        "!pip install -U git+https://github.com/amitness/colab-connect.git"
      ]
    },
    {
      "cell_type": "markdown",
      "metadata": {
        "id": "IagqfpSHGqCw"
      },
      "source": [
        "## Create a tunnel\n",
        "- You will be asked to login on Google drive and GitHub\n",
        "- Once it's say ready, open your local VSCode Editor, open command prompt and select **Remote-Tunnels: Connect to Tunnel**\n",
        "- Choose the tunnel which says \"online\" beside it"
      ]
    },
    {
      "cell_type": "code",
      "source": [
        "from colabconnect import colabconnect\n",
        "\n",
        "colabconnect()"
      ],
      "metadata": {
        "id": "BNj85daEi-mR",
        "outputId": "f4a9bf5a-1c14-4eb6-b5d1-b9bc0493f9c3",
        "colab": {
          "base_uri": "https://localhost:8080/"
        }
      },
      "execution_count": null,
      "outputs": [
        {
          "output_type": "stream",
          "name": "stdout",
          "text": [
            "Mounting Google Drive...\n",
            "Mounted at /content/drive\n",
            "Ran: ln -s /content/drive/MyDrive/colab/ /\n",
            "Installing python libraries...\n",
            "Ran: pip3 install --user flake8 black ipywidgets twine\n",
            "Ran: pip3 install -U ipykernel\n",
            "Ran: apt install htop -y\n",
            "Installing vscode-cli...\n",
            "Ran: curl -Lk https://code.visualstudio.com/sha/download?build=stable&os=cli-alpine-x64 --output vscode_cli.tar.gz\n",
            "Ran: tar -xf vscode_cli.tar.gz\n",
            "Starting the tunnel\n",
            "To grant access to the server, please log into https://github.com/login/device and use code C437-3775\n",
            "Starting the tunnel\n",
            "- Ready!\n",
            "- Open VSCode on your laptop and open the command prompt\n",
            "- Select: 'Remote-Tunnels: Connect to Tunnel' to connect to colab\n",
            "Logs:\n",
            "\n",
            "[2024-04-30 14:32:47] info [tunnels::connections::relay_tunnel_host] Opened new client on channel 2\n",
            "[2024-04-30 14:32:47] info [russh::server] wrote id\n",
            "[2024-04-30 14:32:47] info [russh::server] read other id\n",
            "[2024-04-30 14:32:47] info [russh::server] session is running\n",
            "[2024-04-30 14:32:48] info [rpc.0] Checking /root/.vscode/cli/servers/Stable-e170252f762678dec6ca2cc69aba1570769a5d39/log.txt and /root/.vscode/cli/servers/Stable-e170252f762678dec6ca2cc69aba1570769a5d39/pid.txt for a running server...\n",
            "[2024-04-30 14:32:49] info [rpc.0] Downloading Visual Studio Code server -> /tmp/.tmptCZo2d/vscode-server-linux-x64.tar.gz\n",
            "[2024-04-30 14:32:52] info [rpc.0] Starting server...\n",
            "[2024-04-30 14:32:52] info [rpc.0] Server started\n",
            "[2024-04-30 14:32:59] info [tunnels::connections::relay_tunnel_host] Opened new client on channel 3\n",
            "[2024-04-30 14:32:59] info [russh::server] wrote id\n",
            "[2024-04-30 14:32:59] info [tunnels::connections::relay_tunnel_host] Opened new client on channel 4\n",
            "[2024-04-30 14:32:59] info [russh::server] wrote id\n",
            "[2024-04-30 14:33:00] info [russh::server] read other id\n",
            "[2024-04-30 14:33:00] info [russh::server] session is running\n",
            "[2024-04-30 14:33:00] info [russh::server] read other id\n",
            "[2024-04-30 14:33:00] info [russh::server] session is running\n",
            "[2024-04-30 14:34:49] info [rpc.3] Disposed of connection to running server.\n",
            "[2024-04-30 14:34:49] info [rpc.2] Disposed of connection to running server.\n",
            "[2024-04-30 14:34:50] info [rpc.0] Disposed of connection to running server.\n",
            "[2024-04-30 14:34:55] info [tunnels::connections::relay_tunnel_host] Opened new client on channel 5\n",
            "[2024-04-30 14:34:55] info [russh::server] wrote id\n",
            "[2024-04-30 14:34:55] info [russh::server] read other id\n",
            "[2024-04-30 14:34:55] info [russh::server] session is running\n",
            "[2024-04-30 14:34:57] info [rpc.4] Checking /root/.vscode/cli/servers/Stable-e170252f762678dec6ca2cc69aba1570769a5d39/log.txt and /root/.vscode/cli/servers/Stable-e170252f762678dec6ca2cc69aba1570769a5d39/pid.txt for a running server...\n",
            "[2024-04-30 14:34:57] info [rpc.4] Found running server (pid=2675)\n",
            "[2024-04-30 14:35:04] info [tunnels::connections::relay_tunnel_host] Opened new client on channel 6\n",
            "[2024-04-30 14:35:04] info [russh::server] wrote id\n",
            "[2024-04-30 14:35:04] info [tunnels::connections::relay_tunnel_host] Opened new client on channel 7\n",
            "[2024-04-30 14:35:04] info [russh::server] wrote id\n",
            "[2024-04-30 14:35:05] info [russh::server] read other id\n",
            "[2024-04-30 14:35:05] info [russh::server] session is running\n",
            "[2024-04-30 14:35:05] info [russh::server] read other id\n",
            "[2024-04-30 14:35:05] info [russh::server] session is running\n"
          ]
        }
      ]
    },
    {
      "cell_type": "code",
      "source": [],
      "metadata": {
        "id": "4Jp3fTZObXFm"
      },
      "execution_count": null,
      "outputs": []
    }
  ],
  "metadata": {
    "colab": {
      "provenance": []
    },
    "kernelspec": {
      "display_name": "Python 3",
      "name": "python3"
    },
    "accelerator": "GPU",
    "gpuClass": "standard"
  },
  "nbformat": 4,
  "nbformat_minor": 0
}